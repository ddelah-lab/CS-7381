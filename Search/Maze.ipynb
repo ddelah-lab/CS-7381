{
  "cells": [
    {
      "cell_type": "markdown",
      "metadata": {
        "id": "rEjwmHxPOdBy"
      },
      "source": [
        "# Search: Solving a Maze Using a Goal-based Agent\n",
        "\n",
        "Student Name: [Add your name]\n",
        "\n",
        "I have used the following AI tools: [list tools]\n",
        "\n",
        "I understand that my submission needs to be my own work: [your initials]\n",
        "\n",
        "## Instructions\n",
        "\n",
        "Total Points: Undergrads 100 + 5 bonus / Graduate students 110\n",
        "\n",
        "Complete this notebook. Use the provided notebook cells and insert additional code and markdown cells as needed. Submit the notebook file and the completely rendered notebook with all outputs as a HTML file.\n",
        "\n",
        "\n",
        "## Introduction\n",
        "\n",
        "The agent must use a map it is given to plan a path through the maze from the starting location $S$ to the goal location $G$. This is a planing exercise for a goal-based agent, so you do not need to implement an environment, just use the map to search for a path. Once the plan is made, the agent in a deterministic environment (i.e., the transition function is deterministic with the outcome of each state/action pair fixed and no randomness) can just follow the path and does not need to care about the percepts.\n",
        "This is also called an **[open-loop system](https://en.wikipedia.org/wiki/Open-loop_controller).**\n",
        "The execution phase is trivial and can be executed using a model-based reflex agent\n",
        "that ignores all percepts and just follows the plan. We do not implement it in this exercise.\n",
        "\n",
        "Given that the agent has a complete and correct map, the environment is **fully observable, discrete, deterministic, and known.**\n",
        "Remember:\n",
        "\n",
        "* **Fully observable** means that the agent can see its state and what the available actions are. That means the **percepts contain the complete current state.**\n",
        "Here, during planning, the agent always sees its x and y coordinates on the map and\n",
        "also seeks when it has reached the goal state.\n",
        "* **Discrete** means that we have a **finite set of states.** The maze has a finite set\n",
        "of squares the agent can be in.\n",
        "* **Deterministic** means that the **transition function contains no randomness.** An action in a state will always produce the same result. Going south from the start state always will lead to the same square.\n",
        "* **Know** means that the agent **knows the complete transition function.** The\n",
        "agent has the map and therefore knows how its position changes when it walks in a direction.\n",
        "\n",
        "Tree search algorithm implementations that you find online typically come from data structures courses and have a different aim than AI tree search. These algorithms assume that you already have a tree in memory. We are interested in dynamically creating a search tree with the aim of finding a good/the best path from the root note to the goal state. Follow the pseudo code presented in the text book (and replicated in the slides) closely. Ideally, we would like to search only a small part of the maze, i.e., create a search tree with as few nodes as possible.\n",
        "\n",
        "Several mazes for this exercise are stored as text files. Here is the small example maze:"
      ]
    },
    {
      "cell_type": "code",
      "execution_count": 64,
      "metadata": {
        "colab": {
          "base_uri": "https://localhost:8080/"
        },
        "id": "hFi_5JUcOdBz",
        "outputId": "8cb96926-9cfb-4ad1-9c67-70d4aab7f508"
      },
      "outputs": [
        {
          "output_type": "stream",
          "name": "stdout",
          "text": [
            "XXXXXXXXXXXXXXXXXXXXXX\n",
            "X XX        X X      X\n",
            "X    XXXXXX X XXXXXX X\n",
            "XXXXXX     S  X      X\n",
            "X    X XXXXXX XX XXXXX\n",
            "X XXXX X         X   X\n",
            "X        XXX XXX   X X\n",
            "XXXXXXXXXX    XXXXXX X\n",
            "XG         XX        X\n",
            "XXXXXXXXXXXXXXXXXXXXXX\n",
            "\n"
          ]
        }
      ],
      "source": [
        "with open(\"small_maze.txt\", \"r\") as f:\n",
        "    maze_str = f.read()\n",
        "print(maze_str)"
      ]
    },
    {
      "cell_type": "markdown",
      "metadata": {
        "id": "DW3if_2iOdB0"
      },
      "source": [
        "**Note:** If you get an error here that the file cannot be found, then you need to download it. See [HOWTO Work on Assignments.](https://github.com/mhahsler/CS7320-AI/blob/master/HOWTOs/working_on_assignments.md)"
      ]
    },
    {
      "cell_type": "markdown",
      "metadata": {
        "id": "f5qu7RtyOdB0"
      },
      "source": [
        "## Parsing and pretty printing the maze\n",
        "\n",
        "The maze can also be displayed in color using code in the module [maze_helper.py](maze_helper.py). The code parses the string representing the maze and converts it into a `numpy` 2d array which you can use in your implementation. Position are represented as a 2-tuple of the form `(row, col)`."
      ]
    },
    {
      "cell_type": "code",
      "execution_count": 65,
      "metadata": {
        "tags": [],
        "colab": {
          "base_uri": "https://localhost:8080/"
        },
        "id": "K2VR2OkZOdB0",
        "outputId": "9ad440b6-f253-4e1f-898c-a3f99bf6aaaa"
      },
      "outputs": [
        {
          "output_type": "stream",
          "name": "stdout",
          "text": [
            "Position(0,0): X\n",
            "Position(8,1): G\n"
          ]
        }
      ],
      "source": [
        "import maze_helper as mh\n",
        "\n",
        "maze = mh.parse_maze(maze_str)\n",
        "\n",
        "# look at a position in the maze by subsetting the 2d array\n",
        "print(\"Position(0,0):\", maze[0, 0])\n",
        "\n",
        "# there is also a helper function called `look(maze, pos)` available\n",
        "# which uses a 2-tuple for the position.\n",
        "print(\"Position(8,1):\", mh.look(maze, (8, 1)))"
      ]
    },
    {
      "cell_type": "markdown",
      "metadata": {
        "id": "h8Huun2kOdB0"
      },
      "source": [
        "A helper function to visualize the maze is also available."
      ]
    },
    {
      "cell_type": "code",
      "execution_count": 66,
      "metadata": {
        "colab": {
          "base_uri": "https://localhost:8080/",
          "height": 286
        },
        "id": "5g3ZdMz5OdB0",
        "outputId": "1a6c8818-0d3a-4bd1-bf6b-40a58cf251c6"
      },
      "outputs": [
        {
          "output_type": "display_data",
          "data": {
            "text/plain": [
              "<Figure size 640x480 with 1 Axes>"
            ],
            "image/png": "[encoded data removed]"
          },
          "metadata": {
            "image/png": {
              "width": 534,
              "height": 269
            }
          }
        }
      ],
      "source": [
        "%matplotlib inline\n",
        "%config InlineBackend.figure_format = 'retina'\n",
        "# use higher resolution images in notebooks\n",
        "\n",
        "mh.show_maze(maze)"
      ]
    },
    {
      "cell_type": "markdown",
      "metadata": {
        "id": "F7FT_-HjOdB0"
      },
      "source": [
        "Find the `(x,y)` position of the start and the goal using the helper function `find_pos()`"
      ]
    },
    {
      "cell_type": "code",
      "execution_count": 67,
      "metadata": {
        "colab": {
          "base_uri": "https://localhost:8080/"
        },
        "id": "JWn2dfvJOdB0",
        "outputId": "d3877093-9e53-44d2-e7f5-dac9e737f8e8"
      },
      "outputs": [
        {
          "output_type": "stream",
          "name": "stdout",
          "text": [
            "Start location: (3, 11)\n",
            "Goal location: (8, 1)\n"
          ]
        }
      ],
      "source": [
        "print(\"Start location:\", mh.find_pos(maze, what = \"S\"))\n",
        "print(\"Goal location:\", mh.find_pos(maze, what = \"G\"))"
      ]
    },
    {
      "cell_type": "markdown",
      "metadata": {
        "id": "ZdnENfzmOdB0"
      },
      "source": [
        "Helper function documentation."
      ]
    },
    {
      "cell_type": "code",
      "execution_count": 68,
      "metadata": {
        "colab": {
          "base_uri": "https://localhost:8080/"
        },
        "id": "wEAWRgWROdB0",
        "outputId": "03e6db70-0cf7-4c41-cb1e-c24a9a5a1236"
      },
      "outputs": [
        {
          "output_type": "stream",
          "name": "stdout",
          "text": [
            "Help on module maze_helper:\n",
            "\n",
            "NAME\n",
            "    maze_helper\n",
            "\n",
            "DESCRIPTION\n",
            "    Code for the Maze Assignment by Michael Hahsler\n",
            "    Usage: \n",
            "        import maze_helper as mh\n",
            "        mh.show_some_mazes()\n",
            "\n",
            "FUNCTIONS\n",
            "    animate_maze(result, repeat=False)\n",
            "        Build an animation from a list of mazes. Assumes that results has the elements:\n",
            "        path, reached, actions and maze_anim with a list of maze arrays.\n",
            "    \n",
            "    find_pos(maze, what='S')\n",
            "        Find start/goal in a maze and returns the first one. \n",
            "        Caution: there is no error checking!\n",
            "        \n",
            "        Parameters:\n",
            "        maze: a array with characters prodced by parse_maze()\n",
            "        what: the letter to be found ('S' for start and 'G' for goal)\n",
            "        \n",
            "        Returns:\n",
            "        a tupple (x, y) for the found position.\n",
            "    \n",
            "    look(maze, pos)\n",
            "        Look at the label of a square with the position as an array of the form (x, y).\n",
            "    \n",
            "    maze_to_matrix(maze)\n",
            "        convert a maze a numeric numpy array for visualization via imshow.\n",
            "    \n",
            "    parse_maze(maze_str)\n",
            "        Convert a maze as a string into a 2d numpy array\n",
            "    \n",
            "    show_maze(maze, fontsize=10)\n",
            "        Display a (parsed) maze as an image.\n",
            "    \n",
            "    welcome()\n",
            "        Welcome message.\n",
            "\n",
            "FILE\n",
            "    /content/maze_helper.py\n",
            "\n",
            "\n"
          ]
        }
      ],
      "source": [
        "help(mh)"
      ]
    },
    {
      "cell_type": "markdown",
      "metadata": {
        "id": "vY9Sb2ytOdB0"
      },
      "source": [
        "You will need to make a local copy of the module file [maze_helper.py](maze_helper.py) in the same folder where your notebook is."
      ]
    },
    {
      "cell_type": "markdown",
      "metadata": {
        "id": "Z2oZ0bK1OdB0"
      },
      "source": [
        "## Tree structure\n",
        "\n",
        "Here is an implementation of the basic node structure for the search algorithms (see Fig 3.7 on page 73). I have added a method that extracts the path from the root node to the current node. It can be used to get the path when the search is completed."
      ]
    },
    {
      "cell_type": "code",
      "execution_count": 69,
      "metadata": {
        "id": "5Gm1hubSOdB0"
      },
      "outputs": [],
      "source": [
        "class Node:\n",
        "    def __init__(self, pos, parent, action, cost):\n",
        "        self.pos = tuple(pos)    # the state; positions are (row,col)\n",
        "        self.parent = parent     # reference to parent node. None means root node.\n",
        "        self.action = action     # action used in the transition function (root node has None)\n",
        "        self.cost = cost         # for uniform cost this is the depth. It is also g(n) for A* search\n",
        "\n",
        "    def __str__(self):\n",
        "        return f\"Node - pos = {self.pos}; action = {self.action}; cost = {self.cost}\"\n",
        "\n",
        "    def get_path_from_root(self):\n",
        "        \"\"\"returns nodes on the path from the root to the current node.\"\"\"\n",
        "        node = self\n",
        "        path = [node]\n",
        "\n",
        "        while not node.parent is None:\n",
        "            node = node.parent\n",
        "            path.append(node)\n",
        "\n",
        "        path.reverse()\n",
        "\n",
        "        return(path)"
      ]
    },
    {
      "cell_type": "markdown",
      "metadata": {
        "id": "3Kn5FLt9OdB0"
      },
      "source": [
        "If needed, then you can add more fields to the class like the heuristic value $h(n)$ or $f(n)$.\n",
        "\n",
        "Examples for how to create and use a tree and information on memory management can be found [here](../HOWTOs/trees.ipynb)."
      ]
    },
    {
      "cell_type": "markdown",
      "metadata": {
        "id": "6qgUF5S7OdB1"
      },
      "source": [
        "# Tasks\n",
        "\n",
        "The goal is to:\n",
        "\n",
        "1. Implement the following search algorithms for solving different mazes:\n",
        "\n",
        "    - Breadth-first search (BFS)\n",
        "    - Depth-first search (DFS)\n",
        "    - Greedy best-first search (GBFS)\n",
        "    - A* search\n",
        "\n",
        "2. Run each of the above algorithms on the\n",
        "    - [small maze](small_maze.txt),\n",
        "    - [medium maze](medium_maze.txt),\n",
        "    - [large maze](large_maze.txt),\n",
        "    - [open maze](open_maze.txt),\n",
        "    - [wall maze](wall_maze.txt),\n",
        "    - [loops maze](loops_maze.txt),\n",
        "    - [empty maze](empty_maze.txt), and\n",
        "    - [empty 2_maze](empty_2_maze.txt).\n",
        "    \n",
        "3. For each problem instance and each search algorithm, report the following in a table:\n",
        "\n",
        "    - The solution and its path cost\n",
        "    - Total number of nodes expanded\n",
        "    - Maximum tree depth\n",
        "    - Maximum size of the frontier\n",
        "\n",
        "4. Display each solution by marking every maze square (or state) visited and the squares on the final path.\n",
        "\n",
        "## General [10 Points]\n",
        "\n",
        "1. Make sure that you use the latest version of this notebook.\n",
        "2. Your implementation can use libraries like math, numpy, scipy, but not libraries that implement intelligent agents or complete search algorithms. Try to keep the code simple! In this course, we want to learn about the algorithms and we often do not need to use object-oriented design.\n",
        "3. You notebook needs to be formatted professionally.\n",
        "    - Add additional markdown blocks for your description, comments in the code, add tables and use mathplotlib to produce charts where appropriate\n",
        "    - Do not show debugging output or include an excessive amount of output.\n",
        "    - Check that your submitted file is readable and contains all figures.\n",
        "4. Document your code. Use comments in the code and add a discussion of how your implementation works and your design choices."
      ]
    },
    {
      "cell_type": "markdown",
      "metadata": {
        "id": "KgL4edCVOdB1"
      },
      "source": [
        "## Task 1: Defining the search problem and determining the problem size [10 Points]\n",
        "\n",
        "Define the components of the search problem:\n",
        "\n",
        "* Initial state\n",
        "* Actions\n",
        "* Transition model\n",
        "* Goal state\n",
        "* Path cost\n",
        "\n",
        "Use verbal descriptions, variables and equations as appropriate.\n",
        "\n",
        "*Note:* You can swich the next block from code to Markdown and use formating."
      ]
    },
    {
      "cell_type": "code",
      "execution_count": 70,
      "metadata": {
        "id": "ceMUHKx8OdB1"
      },
      "outputs": [],
      "source": [
        "# Your answer goes here"
      ]
    },
    {
      "cell_type": "markdown",
      "metadata": {
        "id": "uRNvgJDkOdB1"
      },
      "source": [
        "Give some estimates for the problem size:\n",
        "\n",
        "* $n$: state space size\n",
        "* $d$: depth of the optimal solution\n",
        "* $m$: maximum depth of tree\n",
        "* $b$: maximum branching factor\n",
        "\n",
        "Describe how you would determin these values for a given maze."
      ]
    },
    {
      "cell_type": "code",
      "execution_count": 71,
      "metadata": {
        "id": "_eefacHFOdB1"
      },
      "outputs": [],
      "source": [
        "# Your answer goes here"
      ]
    },
    {
      "cell_type": "markdown",
      "metadata": {
        "id": "XMJqlQ4zOdB1"
      },
      "source": [
        "## Task 2: Uninformed search: Breadth-first and depth-first [40 Points]\n",
        "\n",
        "Implement these search strategies. Follow the pseudocode in the textbook/slides. You can use the tree structure shown above to extract the final path from your solution.\n",
        "\n",
        "Read the following **important notes** carefully:\n",
        "* You can find maze solving implementations online that use the map to store information. While this is an effective idea for this two-dimensional navigation problem, it typically cannot be used for other search problems. Therefore, follow the textbook and **do not store information in the map.** Only store information in the tree created during search, and use the `reached` and `frontier` data structures where appropriate.\n",
        "* DSF behavior can be implemented using the BFS tree search algorithm and simply changing the order in which the frontier is expanded (this is equivalent to best-first search with path length as the criterion to expand the next node). However, this would be a big mistake since it combines the bad space complexity of BFS with the bad time complexity of DFS! **To take advantage of the significantly smaller memory footprint of DFS, you need to implement DFS in a different way without a `reached` data structure (often also called `visited` or `explored`) and by releasing the memory for nodes that are not needed anymore.**\n",
        "* Since the proper implementation of DFS does not use a `reached` data structure, redundant path checking abilities are limited to cycle checking.\n",
        "You need to implement **cycle checking since DSF is incomplete (produces an infinite loop) if cycles cannot be prevented.** You will see in your experiments that cycle checking in open spaces is challenging."
      ]
    },
    {
      "cell_type": "code",
      "execution_count": 72,
      "metadata": {
        "id": "VxXmRvRgOdB1"
      },
      "outputs": [],
      "source": [
        "import numpy as np\n",
        "import maze_helper as mh\n",
        "from collections import deque\n",
        "import heapq\n",
        "import pandas as pd"
      ]
    },
    {
      "cell_type": "code",
      "source": [
        "def get_neighbors(maze, pos):\n",
        "    \"\"\"Returns valid neighboring positions in the maze along with movement direction.\"\"\"\n",
        "    row, col = pos\n",
        "    moves = {\n",
        "        \"Right\": (0, 1),\n",
        "        \"Left\": (0, -1),\n",
        "        \"Down\": (1, 0),\n",
        "        \"Up\": (-1, 0)\n",
        "    }\n",
        "    neighbors = []\n",
        "\n",
        "    for action, (dr, dc) in moves.items():\n",
        "        new_row, new_col = row + dr, col + dc\n",
        "        if 0 <= new_row < maze.shape[0] and 0 <= new_col < maze.shape[1]:\n",
        "            if maze[new_row, new_col] != 'X':  # Ensure it's not a wall\n",
        "                neighbors.append(((new_row, new_col), action))  # Return position + action\n",
        "\n",
        "    return neighbors"
      ],
      "metadata": {
        "id": "H_iHBbTsOwR4"
      },
      "execution_count": 73,
      "outputs": []
    },
    {
      "cell_type": "code",
      "source": [
        "def bfs(maze, start, goal):\n",
        "    \"\"\"Breadth-First Search (BFS) following the textbook pseudocode.\"\"\"\n",
        "    frontier = deque([Node(start, parent=None, action=None, cost=0)])\n",
        "    reached = {start: 0}\n",
        "    nodes_expanded = 0\n",
        "    max_frontier_size = 0\n",
        "    max_depth = 0\n",
        "\n",
        "    while frontier:\n",
        "        max_frontier_size = max(max_frontier_size, len(frontier))\n",
        "        current_node = frontier.popleft()\n",
        "        nodes_expanded += 1\n",
        "        max_depth = max(max_depth, current_node.cost)\n",
        "\n",
        "        if current_node.pos == goal:\n",
        "            return [node.pos for node in current_node.get_path_from_root()], nodes_expanded, max_frontier_size, max_depth\n",
        "\n",
        "        for (neighbor, action) in get_neighbors(maze, current_node.pos):  # Unpack action\n",
        "            if neighbor not in reached:\n",
        "                reached[neighbor] = current_node.cost + 1\n",
        "                frontier.append(Node(neighbor, parent=current_node, action=action, cost=current_node.cost + 1))\n",
        "\n",
        "    return None, nodes_expanded, max_frontier_size, max_depth\n",
        "\n",
        "\n",
        "# Implement DFS\n",
        "def dfs(maze, start, goal):\n",
        "    \"\"\"Depth-First Search (DFS) without `reached`, using backtracking and cycle checking.\"\"\"\n",
        "    frontier = [Node(start, parent=None, action=None, cost=0)]  # Stack for DFS\n",
        "    nodes_expanded = 0\n",
        "    max_frontier_size = 0\n",
        "    max_depth = 0\n",
        "    visited_ancestors = set()\n",
        "\n",
        "    while frontier:\n",
        "        max_frontier_size = max(max_frontier_size, len(frontier))\n",
        "        current_node = frontier.pop()\n",
        "        nodes_expanded += 1\n",
        "        max_depth = max(max_depth, current_node.cost)\n",
        "\n",
        "        if current_node.pos == goal:\n",
        "            return [node.pos for node in current_node.get_path_from_root()], nodes_expanded, max_frontier_size, max_depth\n",
        "\n",
        "        if current_node.pos in visited_ancestors:\n",
        "            continue  # Skip cycles\n",
        "\n",
        "        visited_ancestors.add(current_node.pos)\n",
        "\n",
        "        for (neighbor, action) in get_neighbors(maze, current_node.pos):  # Unpack action\n",
        "            if neighbor not in visited_ancestors:\n",
        "                frontier.append(Node(neighbor, parent=current_node, action=action, cost=current_node.cost + 1))\n",
        "\n",
        "        # ✅ Move the removal here (AFTER all children are checked)\n",
        "        visited_ancestors.remove(current_node.pos)\n",
        "\n",
        "    return None, nodes_expanded, max_frontier_size, max_depth\n"
      ],
      "metadata": {
        "id": "06U31nEmPPsL"
      },
      "execution_count": 74,
      "outputs": []
    },
    {
      "cell_type": "markdown",
      "metadata": {
        "id": "-_VaWSNTOdB1"
      },
      "source": [
        "How does BFS and DFS (without a reached data structure) deal with loops (cycles)?"
      ]
    },
    {
      "cell_type": "code",
      "execution_count": 75,
      "metadata": {
        "id": "UOVkGxJKOdB1"
      },
      "outputs": [],
      "source": [
        "# Discussion"
      ]
    },
    {
      "cell_type": "markdown",
      "metadata": {
        "id": "Aowlo39TOdB1"
      },
      "source": [
        "Are your implementations complete and optimal? Explain why. What is the time and space complexity of each of **your** implementations? Especially discuss the difference in space complexity between BFS and DFS."
      ]
    },
    {
      "cell_type": "code",
      "execution_count": 76,
      "metadata": {
        "id": "NcQcuobuOdB1"
      },
      "outputs": [],
      "source": [
        "# Discussion"
      ]
    },
    {
      "cell_type": "markdown",
      "metadata": {
        "id": "dnvGClKcOdB1"
      },
      "source": [
        "## Task 3: Informed search: Implement greedy best-first search and A* search  [20 Points]\n",
        "\n",
        "You can use the map to estimate the distance from your current position to the goal using the Manhattan distance (see https://en.wikipedia.org/wiki/Taxicab_geometry) as a heuristic function. Both algorithms are based on Best-First search which requires only a small change from the BFS algorithm you have already implemented (see textbook/slides)."
      ]
    },
    {
      "cell_type": "code",
      "source": [
        "def heuristic(pos1, pos2):\n",
        "    \"\"\"Manhattan distance heuristic for pathfinding.\"\"\"\n",
        "    return abs(pos1[0] - pos2[0]) + abs(pos1[1] - pos2[1])\n"
      ],
      "metadata": {
        "id": "u1FuYzjzQZdB"
      },
      "execution_count": 77,
      "outputs": []
    },
    {
      "cell_type": "code",
      "execution_count": 104,
      "metadata": {
        "id": "KcljkkL0OdB1"
      },
      "outputs": [],
      "source": [
        "def gbfs(maze, start, goal):\n",
        "    \"\"\"Greedy Best-First Search (GBFS) that follows the pseudo-code correctly.\"\"\"\n",
        "    frontier = []\n",
        "    heapq.heappush(frontier, (heuristic(start, goal), Node(start, parent=None, action=None, cost=0)))\n",
        "    reached = {start: float('inf')}  # Use infinity as default path cost\n",
        "    nodes_expanded = 0\n",
        "    max_frontier_size = 0\n",
        "    max_depth = 0\n",
        "\n",
        "    while frontier:\n",
        "        max_frontier_size = max(max_frontier_size, len(frontier))\n",
        "        _, current_node = heapq.heappop(frontier)\n",
        "\n",
        "        nodes_expanded += 1\n",
        "        max_depth = max(max_depth, current_node.cost)\n",
        "\n",
        "        if current_node.pos == goal:\n",
        "            return [node.pos for node in current_node.get_path_from_root()], nodes_expanded, max_frontier_size, max_depth\n",
        "\n",
        "        for (neighbor, action) in get_neighbors(maze, current_node.pos):  # ✅ Unpacking action\n",
        "            new_cost = current_node.cost + 1  # Step cost is always 1\n",
        "            if neighbor not in reached or new_cost < reached[neighbor]:\n",
        "                reached[neighbor] = new_cost\n",
        "                child_node = Node(neighbor, parent=current_node, action=action, cost=new_cost)  # ✅ Pass action\n",
        "                heapq.heappush(frontier, (heuristic(neighbor, goal), new_cost, child_node))\n",
        "\n",
        "    return None, nodes_expanded, max_frontier_size, max_depth\n",
        "\n",
        "\n",
        "\n",
        "\n",
        "def a_star(maze, start, goal):\n",
        "    \"\"\"A* Search implementation following the pseudo-code exactly.\"\"\"\n",
        "    frontier = []\n",
        "    heapq.heappush(frontier, (0 + heuristic(start, goal), 0, Node(start, parent=None, action=None, cost=0)))  # f(n) = g(n) + h(n)\n",
        "    reached = {start: 0}  # Track best-known path cost to each node\n",
        "    nodes_expanded = 0\n",
        "    max_frontier_size = 0\n",
        "    max_depth = 0\n",
        "\n",
        "    while frontier:\n",
        "        max_frontier_size = max(max_frontier_size, len(frontier))\n",
        "        _, g_cost, current_node = heapq.heappop(frontier)  # Expand lowest f(n)\n",
        "        nodes_expanded += 1\n",
        "        max_depth = max(max_depth, current_node.cost)\n",
        "\n",
        "        if current_node.pos == goal:\n",
        "            return [node.pos for node in current_node.get_path_from_root()], nodes_expanded, max_frontier_size, max_depth\n",
        "\n",
        "        for (neighbor, action) in get_neighbors(maze, current_node.pos):  # ✅ Unpacking action\n",
        "            new_cost = g_cost + 1  # g(n) updates with step cost\n",
        "            if neighbor not in reached or new_cost < reached[neighbor]:\n",
        "                reached[neighbor] = new_cost\n",
        "                child_node = Node(neighbor, parent=current_node, action=action, cost=new_cost)  # ✅ Pass action\n",
        "                heapq.heappush(frontier, (new_cost + heuristic(neighbor, goal), new_cost, child_node))\n",
        "\n",
        "    return None, nodes_expanded, max_frontier_size, max_depth"
      ]
    },
    {
      "cell_type": "markdown",
      "metadata": {
        "id": "DMl4cGQGOdB1"
      },
      "source": [
        "Are your implementations complete and optimal? What is the time and space complexity?"
      ]
    },
    {
      "cell_type": "code",
      "execution_count": 79,
      "metadata": {
        "id": "mXAU5tDFOdB1"
      },
      "outputs": [],
      "source": [
        "# Discussion"
      ]
    },
    {
      "cell_type": "markdown",
      "metadata": {
        "id": "FJXZoESnOdB1"
      },
      "source": [
        "## Task 4: Comparison and discussion [20 Points]\n",
        "\n",
        "Run experiments to compare the implemented algorithms.\n",
        "\n",
        "How to deal with issues:\n",
        "\n",
        "* Your implementation returns unexpected results: Try to debug and fix the code. Visualizing the maze, the current path and the frontier after every step is very helpful. If the code still does not work, then mark the result with an asterisk (*) and describe the issue below the table.\n",
        "\n",
        "* Your implementation cannot consistently solve a specific maze and ends up in an infinite loop:\n",
        "    Debug (likely your frontier and cycle checking for DFS are the issue). If it is a shortcoming of the algorithm/implementation, then put \"N/A*\" in the results table and describe why this is happening."
      ]
    },
    {
      "cell_type": "code",
      "source": [
        "# Function to visualize the maze with search path\n",
        "def visualize_maze_solution(maze, path, visited_nodes, start, goal):\n",
        "    \"\"\"Displays the maze using the mh library with visited nodes and the final path.\"\"\"\n",
        "    visual_maze = np.copy(maze)  # Make a safe copy of the maze structure\n",
        "\n",
        "    for pos in visited_nodes:\n",
        "        if isinstance(pos, tuple) and mh.look(visual_maze, pos) in ['.', ' ']:\n",
        "            visual_maze[pos] = '.'  # Mark visited nodes with integer 5 (gray in mh.show_maze())\n",
        "\n",
        "    for pos in path:\n",
        "        if pos == start or pos == goal:\n",
        "            continue  # Keep 'S' and 'G' unchanged\n",
        "        if isinstance(pos, tuple):\n",
        "            visual_maze[pos] = 'P'  # Mark final path with integer 4 (red in mh.show_maze())\n",
        "\n",
        "    print(\"Updated Maze Before Displaying:\")\n",
        "    print(visual_maze)\n",
        "    mh.show_maze(visual_maze)  # Use mh library for visualization  # Use mh library for visualization  # Use mh library for visualization  # Use mh library for visualization\n",
        "\n",
        "# Function to run searches and visualize solutions\n",
        "def run_and_visualize_search(maze_file, search_algorithm):\n",
        "    print(f\"\\nRunning {search_algorithm.__name__} on {maze_file}...\\n\")\n",
        "\n",
        "    # Load the maze\n",
        "    with open(maze_file, \"r\") as f:\n",
        "        maze_str = f.read()\n",
        "    maze = mh.parse_maze(maze_str)\n",
        "    mh.show_maze(maze)  # Display the raw maze before solving\n",
        "\n",
        "    # Find start and goal positions\n",
        "    start = mh.find_pos(maze, \"S\")\n",
        "    goal = mh.find_pos(maze, \"G\")\n",
        "\n",
        "    if start is None or goal is None:\n",
        "      raise ValueError(f\"Error: Start ('S') or Goal ('G') not found in {maze_file}. Check the maze file contents.\")  # Avoid IndexError by skipping the maze\n",
        "\n",
        "    # Run the search algorithm\n",
        "    path, nodes_expanded, frontier_size, max_depth = search_algorithm(maze, start, goal)\n",
        "\n",
        "    if path:\n",
        "        print(f\"Solution found! Path cost: {len(path)}\")\n",
        "        visualize_maze_solution(maze, path, path, start, goal)\n",
        "    else:\n",
        "        print(\"No solution found.\")\n",
        "\n",
        "    return {\n",
        "        \"maze\": maze_file,\n",
        "        \"algorithm\": search_algorithm.__name__,\n",
        "        \"path_cost\": len(path) if path else None,\n",
        "        \"nodes_expanded\": nodes_expanded,\n",
        "        \"max_frontier_size\": frontier_size,\n",
        "        \"max_depth\": max_depth\n",
        "    }\n",
        "\n",
        "# Run and visualize all searches\n",
        "search_algorithms = [bfs, gbfs, a_star, dfs]\n",
        "search_results = []\n",
        "search_summary = []\n",
        "# Load the maze filenames\n",
        "maze_files = [\n",
        "    \"small_maze.txt\",\n",
        "    \"medium_maze.txt\",\n",
        "    \"large_maze.txt\",\n",
        "    \"open_maze.txt\",\n",
        "    \"wall_maze.txt\",\n",
        "    \"loops_maze.txt\",\n",
        "    \"empty_maze.txt\",\n",
        "    \"empty_2_maze.txt\"\n",
        "]\n",
        "\n",
        "for maze_file in maze_files:\n",
        "    for algo in search_algorithms:\n",
        "        result = run_and_visualize_search(maze_file, algo)\n",
        "        if result:\n",
        "            search_results.append(result)\n",
        "            search_summary.append({\n",
        "                \"Maze\": maze_file,\n",
        "                \"Algorithm\": algo.__name__,\n",
        "                \"Path Cost\": result[\"path_cost\"],\n",
        "                \"Nodes Expanded\": result[\"nodes_expanded\"],\n",
        "                \"Max Tree Depth\": result[\"max_depth\"],\n",
        "                \"Max Frontier Size\": result[\"max_frontier_size\"]\n",
        "            })\n",
        "\n",
        "# Convert results to a DataFrame\n",
        "df_results = pd.DataFrame(search_results)\n",
        "df_summary = pd.DataFrame(search_summary)\n",
        "\n",
        "# Display results in a table\n",
        "from IPython.display import display\n",
        "\n",
        "print(\"Maze Search Visualization Results:\")\n",
        "display(df_results)"
      ],
      "metadata": {
        "colab": {
          "base_uri": "https://localhost:8080/",
          "height": 1000
        },
        "id": "Yj5LV_29QTl8",
        "outputId": "1ef7a0ef-7a1b-4126-8d49-bc5b69cf62c5"
      },
      "execution_count": 105,
      "outputs": [
        {
          "output_type": "stream",
          "name": "stdout",
          "text": [
            "\n",
            "Running bfs on small_maze.txt...\n",
            "\n"
          ]
        },
        {
          "output_type": "display_data",
          "data": {
            "text/plain": [
              "<Figure size 640x480 with 1 Axes>"
            ],
            "image/png": "[encoded data removed]"
          },
          "metadata": {
            "image/png": {
              "width": 534,
              "height": 269
            }
          }
        },
        {
          "output_type": "stream",
          "name": "stdout",
          "text": [
            "Solution found! Path cost: 20\n",
            "Updated Maze Before Displaying:\n",
            "[['X' 'X' 'X' 'X' 'X' 'X' 'X' 'X' 'X' 'X' 'X' 'X' 'X' 'X' 'X' 'X' 'X' 'X'\n",
            "  'X' 'X' 'X' 'X']\n",
            " ['X' ' ' 'X' 'X' ' ' ' ' ' ' ' ' ' ' ' ' ' ' ' ' 'X' ' ' 'X' ' ' ' ' ' '\n",
            "  ' ' ' ' ' ' 'X']\n",
            " ['X' ' ' ' ' ' ' ' ' 'X' 'X' 'X' 'X' 'X' 'X' ' ' 'X' ' ' 'X' 'X' 'X' 'X'\n",
            "  'X' 'X' ' ' 'X']\n",
            " ['X' 'X' 'X' 'X' 'X' 'X' ' ' ' ' ' ' ' ' ' ' 'S' 'P' 'P' 'X' ' ' ' ' ' '\n",
            "  ' ' ' ' ' ' 'X']\n",
            " ['X' ' ' ' ' ' ' ' ' 'X' ' ' 'X' 'X' 'X' 'X' 'X' 'X' 'P' 'X' 'X' ' ' 'X'\n",
            "  'X' 'X' 'X' 'X']\n",
            " ['X' ' ' 'X' 'X' 'X' 'X' ' ' 'X' ' ' ' ' ' ' ' ' 'P' 'P' ' ' ' ' ' ' 'X'\n",
            "  ' ' ' ' ' ' 'X']\n",
            " ['X' ' ' ' ' ' ' ' ' ' ' ' ' ' ' ' ' 'X' 'X' 'X' 'P' 'X' 'X' 'X' ' ' ' '\n",
            "  ' ' 'X' ' ' 'X']\n",
            " ['X' 'X' 'X' 'X' 'X' 'X' 'X' 'X' 'X' 'X' 'P' 'P' 'P' ' ' 'X' 'X' 'X' 'X'\n",
            "  'X' 'X' ' ' 'X']\n",
            " ['X' 'G' 'P' 'P' 'P' 'P' 'P' 'P' 'P' 'P' 'P' 'X' 'X' ' ' ' ' ' ' ' ' ' '\n",
            "  ' ' ' ' ' ' 'X']\n",
            " ['X' 'X' 'X' 'X' 'X' 'X' 'X' 'X' 'X' 'X' 'X' 'X' 'X' 'X' 'X' 'X' 'X' 'X'\n",
            "  'X' 'X' 'X' 'X']]\n"
          ]
        },
        {
          "output_type": "display_data",
          "data": {
            "text/plain": [
              "<Figure size 640x480 with 1 Axes>"
            ],
            "image/png": "[encoded data removed]"
          },
          "metadata": {
            "image/png": {
              "width": 534,
              "height": 269
            }
          }
        },
        {
          "output_type": "stream",
          "name": "stdout",
          "text": [
            "\n",
            "Running gbfs on small_maze.txt...\n",
            "\n"
          ]
        },
        {
          "output_type": "display_data",
          "data": {
            "text/plain": [
              "<Figure size 640x480 with 1 Axes>"
            ],
            "image/png": "[encoded data removed]"
          },
          "metadata": {
            "image/png": {
              "width": 534,
              "height": 269
            }
          }
        },
        {
          "output_type": "error",
          "ename": "TypeError",
          "evalue": "'<' not supported between instances of 'Node' and 'Node'",
          "traceback": [
            "\u001b[0;31m---------------------------------------------------------------------------\u001b[0m",
            "\u001b[0;31mTypeError\u001b[0m                                 Traceback (most recent call last)",
            "\u001b[0;32m<ipython-input-105-acdc4d0a1c8d>\u001b[0m in \u001b[0;36m<cell line: 0>\u001b[0;34m()\u001b[0m\n\u001b[1;32m     71\u001b[0m \u001b[0;32mfor\u001b[0m \u001b[0mmaze_file\u001b[0m \u001b[0;32min\u001b[0m \u001b[0mmaze_files\u001b[0m\u001b[0;34m:\u001b[0m\u001b[0;34m\u001b[0m\u001b[0;34m\u001b[0m\u001b[0m\n\u001b[1;32m     72\u001b[0m     \u001b[0;32mfor\u001b[0m \u001b[0malgo\u001b[0m \u001b[0;32min\u001b[0m \u001b[0msearch_algorithms\u001b[0m\u001b[0;34m:\u001b[0m\u001b[0;34m\u001b[0m\u001b[0;34m\u001b[0m\u001b[0m\n\u001b[0;32m---> 73\u001b[0;31m         \u001b[0mresult\u001b[0m \u001b[0;34m=\u001b[0m \u001b[0mrun_and_visualize_search\u001b[0m\u001b[0;34m(\u001b[0m\u001b[0mmaze_file\u001b[0m\u001b[0;34m,\u001b[0m \u001b[0malgo\u001b[0m\u001b[0;34m)\u001b[0m\u001b[0;34m\u001b[0m\u001b[0;34m\u001b[0m\u001b[0m\n\u001b[0m\u001b[1;32m     74\u001b[0m         \u001b[0;32mif\u001b[0m \u001b[0mresult\u001b[0m\u001b[0;34m:\u001b[0m\u001b[0;34m\u001b[0m\u001b[0;34m\u001b[0m\u001b[0m\n\u001b[1;32m     75\u001b[0m             \u001b[0msearch_results\u001b[0m\u001b[0;34m.\u001b[0m\u001b[0mappend\u001b[0m\u001b[0;34m(\u001b[0m\u001b[0mresult\u001b[0m\u001b[0;34m)\u001b[0m\u001b[0;34m\u001b[0m\u001b[0;34m\u001b[0m\u001b[0m\n",
            "\u001b[0;32m<ipython-input-105-acdc4d0a1c8d>\u001b[0m in \u001b[0;36mrun_and_visualize_search\u001b[0;34m(maze_file, search_algorithm)\u001b[0m\n\u001b[1;32m     36\u001b[0m \u001b[0;34m\u001b[0m\u001b[0m\n\u001b[1;32m     37\u001b[0m     \u001b[0;31m# Run the search algorithm\u001b[0m\u001b[0;34m\u001b[0m\u001b[0;34m\u001b[0m\u001b[0m\n\u001b[0;32m---> 38\u001b[0;31m     \u001b[0mpath\u001b[0m\u001b[0;34m,\u001b[0m \u001b[0mnodes_expanded\u001b[0m\u001b[0;34m,\u001b[0m \u001b[0mfrontier_size\u001b[0m\u001b[0;34m,\u001b[0m \u001b[0mmax_depth\u001b[0m \u001b[0;34m=\u001b[0m \u001b[0msearch_algorithm\u001b[0m\u001b[0;34m(\u001b[0m\u001b[0mmaze\u001b[0m\u001b[0;34m,\u001b[0m \u001b[0mstart\u001b[0m\u001b[0;34m,\u001b[0m \u001b[0mgoal\u001b[0m\u001b[0;34m)\u001b[0m\u001b[0;34m\u001b[0m\u001b[0;34m\u001b[0m\u001b[0m\n\u001b[0m\u001b[1;32m     39\u001b[0m \u001b[0;34m\u001b[0m\u001b[0m\n\u001b[1;32m     40\u001b[0m     \u001b[0;32mif\u001b[0m \u001b[0mpath\u001b[0m\u001b[0;34m:\u001b[0m\u001b[0;34m\u001b[0m\u001b[0;34m\u001b[0m\u001b[0m\n",
            "\u001b[0;32m<ipython-input-104-aebcd55280ca>\u001b[0m in \u001b[0;36mgbfs\u001b[0;34m(maze, start, goal)\u001b[0m\n\u001b[1;32m     10\u001b[0m     \u001b[0;32mwhile\u001b[0m \u001b[0mfrontier\u001b[0m\u001b[0;34m:\u001b[0m\u001b[0;34m\u001b[0m\u001b[0;34m\u001b[0m\u001b[0m\n\u001b[1;32m     11\u001b[0m         \u001b[0mmax_frontier_size\u001b[0m \u001b[0;34m=\u001b[0m \u001b[0mmax\u001b[0m\u001b[0;34m(\u001b[0m\u001b[0mmax_frontier_size\u001b[0m\u001b[0;34m,\u001b[0m \u001b[0mlen\u001b[0m\u001b[0;34m(\u001b[0m\u001b[0mfrontier\u001b[0m\u001b[0;34m)\u001b[0m\u001b[0;34m)\u001b[0m\u001b[0;34m\u001b[0m\u001b[0;34m\u001b[0m\u001b[0m\n\u001b[0;32m---> 12\u001b[0;31m         \u001b[0m_\u001b[0m\u001b[0;34m,\u001b[0m \u001b[0mcurrent_node\u001b[0m \u001b[0;34m=\u001b[0m \u001b[0mheapq\u001b[0m\u001b[0;34m.\u001b[0m\u001b[0mheappop\u001b[0m\u001b[0;34m(\u001b[0m\u001b[0mfrontier\u001b[0m\u001b[0;34m)\u001b[0m\u001b[0;34m\u001b[0m\u001b[0;34m\u001b[0m\u001b[0m\n\u001b[0m\u001b[1;32m     13\u001b[0m \u001b[0;34m\u001b[0m\u001b[0m\n\u001b[1;32m     14\u001b[0m         \u001b[0mnodes_expanded\u001b[0m \u001b[0;34m+=\u001b[0m \u001b[0;36m1\u001b[0m\u001b[0;34m\u001b[0m\u001b[0;34m\u001b[0m\u001b[0m\n",
            "\u001b[0;31mTypeError\u001b[0m: '<' not supported between instances of 'Node' and 'Node'"
          ]
        }
      ]
    },
    {
      "cell_type": "markdown",
      "metadata": {
        "id": "2iPa3BcmOdB1"
      },
      "source": [
        "Complete the following table for each maze.\n",
        "\n",
        "__Small maze__\n",
        "\n",
        "| algorithm | path cost | # of nodes expanded | max tree depth | max # of nodes in memory | max frontier size |\n",
        "|-----------|-----------|----------------|----------------|---------------|-------------------|\n",
        "| BFS       |           |                |                |               |                   |\n",
        "| DFS       |           |                |                |               |                   |\n",
        "| GBS       |           |                |                |               |                   |\n",
        "| A*        |           |                |                |               |                   |\n",
        "\n",
        "__Medium Maze__\n",
        "\n",
        "..."
      ]
    },
    {
      "cell_type": "markdown",
      "metadata": {
        "id": "i7bqraxzOdB1"
      },
      "source": [
        "Present the results as using charts (see [Python Code Examples/charts and tables](../HOWTOs/charts_and_tables.ipynb))."
      ]
    },
    {
      "cell_type": "code",
      "execution_count": null,
      "metadata": {
        "id": "VBSf_G3FOdB1"
      },
      "outputs": [],
      "source": [
        "# Add charts"
      ]
    },
    {
      "cell_type": "markdown",
      "metadata": {
        "id": "PqDGR3Z5OdB2"
      },
      "source": [
        "Discuss the most important lessons you have learned from implementing the different search strategies."
      ]
    },
    {
      "cell_type": "code",
      "execution_count": null,
      "metadata": {
        "id": "xlozm2ygOdB2"
      },
      "outputs": [],
      "source": [
        "# Add discussion"
      ]
    },
    {
      "cell_type": "markdown",
      "metadata": {
        "id": "tc-WkC4jOdB2"
      },
      "source": [
        "## Advanced task: IDS and Multiple goals\n",
        "\n",
        "* __Graduate students__ need to complete this task [10 points]\n",
        "* __Undergraduate students__ can attempt this as a bonus task [max +5 bonus points].\n",
        "\n",
        "### IDS\n",
        "Implement IDS (iterative deepening search) using your DFS implementation. Test IDS on the mazes above. You may run into some issues with mazes with open spaces. If you cannot resolve the issus, then report and discuss what causes the problems."
      ]
    },
    {
      "cell_type": "code",
      "execution_count": null,
      "metadata": {
        "id": "cjwgFBnAOdB2"
      },
      "outputs": [],
      "source": [
        "# Your code/answer goes here"
      ]
    },
    {
      "cell_type": "markdown",
      "metadata": {
        "id": "aLm_m8BPOdB2"
      },
      "source": [
        "### Multiple Goals\n",
        "Create a few mazes with multiple goals by adding one or two more goals to the medium size maze. The agent is done when it finds one of the goals.\n",
        "Solve the maze with your implementations for DFS, BFS, and IDS. Run experiments to show which implementations find the optimal solution and which do not. Discuss why that is the case."
      ]
    },
    {
      "cell_type": "code",
      "execution_count": null,
      "metadata": {
        "id": "3UNGDl5eOdB2"
      },
      "outputs": [],
      "source": [
        "# Your code/answer goes here"
      ]
    },
    {
      "cell_type": "markdown",
      "metadata": {
        "id": "EVmh72kWOdB2"
      },
      "source": [
        "## More Advanced Problems to Think About (not for credit)\n",
        "\n",
        "If the assignment was to easy for yuo then you can think about the following problems. These problems are challenging and not part of this assignment.\n",
        "\n",
        "### Intersection as States\n",
        "Instead of defining each square as a state, use only intersections as states. Now the storage requirement is reduced, but the path length between two intersections can be different. If we use total path length measured as the number of squares as path cost, how can we make sure that BFS and iterative deepening search is optimal? Change the code to do so."
      ]
    },
    {
      "cell_type": "code",
      "execution_count": null,
      "metadata": {
        "id": "WHC27nLYOdB2"
      },
      "outputs": [],
      "source": [
        "# Your code/answer goes here"
      ]
    },
    {
      "cell_type": "markdown",
      "metadata": {
        "id": "gWJIdWwAOdB2"
      },
      "source": [
        "### Weighted A* search\n",
        "Modify your A* search to add weights (see text book) and explore how different weights influence the result."
      ]
    },
    {
      "cell_type": "code",
      "execution_count": null,
      "metadata": {
        "id": "BQZXAx55OdB2"
      },
      "outputs": [],
      "source": [
        "# Your code/answer goes here"
      ]
    },
    {
      "cell_type": "markdown",
      "metadata": {
        "id": "okzR8EA3OdB2"
      },
      "source": [
        "### Unknown Maze\n",
        "What happens if the agent does not know the layout of the maze in advance? This means that the agent faces an unknown environment, where it does not know the transition function. How does the environment look then (PEAS description)? How would you implement a rational agent to solve the maze? What if the agent still has a GPS device to tell the distance to the goal?"
      ]
    },
    {
      "cell_type": "code",
      "execution_count": null,
      "metadata": {
        "id": "AFF3YoKUOdB2"
      },
      "outputs": [],
      "source": [
        "# Your code/answer goes here"
      ]
    }
  ],
  "metadata": {
    "kernelspec": {
      "display_name": "Python 3 (ipykernel)",
      "language": "python",
      "name": "python3"
    },
    "language_info": {
      "codemirror_mode": {
        "name": "ipython",
        "version": 3
      },
      "file_extension": ".py",
      "mimetype": "text/x-python",
      "name": "python",
      "nbconvert_exporter": "python",
      "pygments_lexer": "ipython3",
      "version": "3.10.12"
    },
    "colab": {
      "provenance": []
    }
  },
  "nbformat": 4,
  "nbformat_minor": 0
}